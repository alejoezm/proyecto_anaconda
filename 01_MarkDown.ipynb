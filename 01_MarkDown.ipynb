{
 "cells": [
  {
   "cell_type": "markdown",
   "id": "9b0c58f9",
   "metadata": {},
   "source": [
    "# Uso de markdown"
   ]
  },
  {
   "cell_type": "markdown",
   "id": "b266460e",
   "metadata": {},
   "source": [
    "# Titulo 1\n",
    "\n",
    "Todos los titulos empizan con  signo #\n",
    " \n",
    "## Titulo 2\n",
    "### Titulo 3\n",
    "#### Titulo 4\n",
    "##### Titulo 5"
   ]
  },
  {
   "cell_type": "markdown",
   "id": "63edf0f2",
   "metadata": {},
   "source": [
    "# Blockquote\n",
    "\n",
    "Los _blockquotes_ se hacen con el signo >\n",
    "\n",
    "> # Titulo del blockquote\n",
    "> Este es el parrrafo del blockquote\n",
    "> Tenemos mas texto\n",
    ">\n",
    "> ## Segunda Parte\n",
    "> mas texto"
   ]
  },
  {
   "cell_type": "markdown",
   "id": "df4d9b23",
   "metadata": {},
   "source": [
    "# Enfasis\n",
    "\n",
    "Se pueden poner **negritas** con doble caracter ** o un ___\n",
    "Se pueden poner *italicas con un solo caracter * o un __\n",
    "se hacen ~~tachado~~ utilizando doble vergulilla"
   ]
  },
  {
   "cell_type": "markdown",
   "id": "22398f17",
   "metadata": {},
   "source": [
    "# Listas\n",
    "## Ordenadas\n",
    "\n",
    "1. Colores\n",
    "    A.Rojo\n",
    "    B.Azul\n",
    "    C.Verde\n",
    "2.Sabores\n",
    "    1. Salado\n",
    "    2. Dulce\n",
    "    \n",
    "## No ordenadas\n",
    "\n",
    "* Animales\n",
    "    -Perro\n",
    "    -Gato\n",
    "    -"
   ]
  }
 ],
 "metadata": {
  "kernelspec": {
   "display_name": "Python 3",
   "language": "python",
   "name": "python3"
  },
  "language_info": {
   "codemirror_mode": {
    "name": "ipython",
    "version": 3
   },
   "file_extension": ".py",
   "mimetype": "text/x-python",
   "name": "python",
   "nbconvert_exporter": "python",
   "pygments_lexer": "ipython3",
   "version": "3.8.8"
  }
 },
 "nbformat": 4,
 "nbformat_minor": 5
}
