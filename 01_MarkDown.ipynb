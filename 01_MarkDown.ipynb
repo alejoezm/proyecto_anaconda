{
 "cells": [
  {
   "cell_type": "markdown",
   "id": "9b0c58f9",
   "metadata": {},
   "source": [
    "# Uso de markdown"
   ]
  },
  {
   "cell_type": "markdown",
   "id": "b266460e",
   "metadata": {},
   "source": [
    "# Titulo 1\n",
    "\n",
    "Todos los titulos empizan con  signo #\n",
    " \n",
    "## Titulo 2\n",
    "### Titulo 3\n",
    "#### Titulo 4\n",
    "##### Titulo 5"
   ]
  },
  {
   "cell_type": "markdown",
   "id": "63edf0f2",
   "metadata": {},
   "source": [
    "# Blockquote\n",
    "\n",
    "Los _blockquotes_ se hacen con el signo >\n",
    "\n",
    "> # Titulo del blockquote\n",
    "> Este es el parrrafo del blockquote\n",
    "> Tenemos mas texto\n",
    ">\n",
    "> ## Segunda Parte\n",
    "> mas texto"
   ]
  },
  {
   "cell_type": "markdown",
   "id": "df4d9b23",
   "metadata": {},
   "source": [
    "# Enfasis\n",
    "\n",
    "Se pueden poner **negritas** con doble caracter ** o un ___\n",
    "Se pueden poner *italicas con un solo caracter * o un __\n",
    "se hacen ~~tachado~~ utilizando doble vergulilla"
   ]
  },
  {
   "cell_type": "markdown",
   "id": "22398f17",
   "metadata": {},
   "source": [
    "# Listas\n",
    "## Ordenadas\n",
    "\n",
    "1. Colores\n",
    "    A.Rojo\n",
    "    B.Azul\n",
    "    C.Verde\n",
    "2.Sabores\n",
    "    1. Salado\n",
    "    2. Dulce\n",
    "    \n",
    "## No ordenadas\n",
    "\n",
    "* Animales\n",
    "    -Perro\n",
    "    -Gato\n",
    "    -Caiman\n",
    "* Frutas\n",
    "    - Cictricos\n",
    "        + Limon\n",
    "        + Naranja\n",
    "        + Toronja\n",
    "    - Manzana\n",
    "    - Pera"
   ]
  },
  {
   "cell_type": "markdown",
   "id": "82995630",
   "metadata": {},
   "source": [
    "# Enlaces\n",
    "\n",
    "Un enlace siempre tiene la forma [nombre](url)\"tooltip\"\n",
    "\n",
    "### Libros\n",
    "\n",
    "* [Git Book](http://git-scm.com/)\n",
    "* [Coleccion libros de python](http://git-scm.com/)\n"
   ]
  },
  {
   "cell_type": "code",
   "execution_count": 7,
   "id": "5e3e1849",
   "metadata": {},
   "outputs": [
    {
     "data": {
      "text/html": [
       "<iframe width=\"853\" height=\"480\" src=\"https://www.youtube.com/embed/8ASjvOIyyl8\" title=\"YouTube video player\" frameborder=\"0\" allow=\"accelerometer; autoplay; clipboard-write; encrypted-media; gyroscope; picture-in-picture\" allowfullscreen></iframe>\n"
      ],
      "text/plain": [
       "<IPython.core.display.HTML object>"
      ]
     },
     "metadata": {},
     "output_type": "display_data"
    }
   ],
   "source": [
    "%%HTML\n",
    "<iframe width=\"853\" height=\"480\" src=\"https://www.youtube.com/embed/8ASjvOIyyl8\" title=\"YouTube video player\" frameborder=\"0\" allow=\"accelerometer; autoplay; clipboard-write; encrypted-media; gyroscope; picture-in-picture\" allowfullscreen></iframe>"
   ]
  },
  {
   "cell_type": "markdown",
   "id": "976ec8f3",
   "metadata": {},
   "source": [
    "# Imagenes\n",
    "\n",
    "Las imagenes tienen la forma [nombre](url)\n",
    "![Jupyter](https://es.wikipedia.org/wiki/Archivo:Jupyter_logo.svg)"
   ]
  },
  {
   "cell_type": "markdown",
   "id": "15055447",
   "metadata": {},
   "source": [
    "# Codigo\n",
    "\n",
    "Utilizar 4 espacios:\n",
    "\n",
    "    frutas = ['pera','manzana','piña']\n",
    "    for fruta in frutas:\n",
    "        print(fruta)\n",
    "        \n",
    "En un bloque de codigo, los TAGs HTML no tiene efecto\n",
    "\n",
    "    <html>\n",
    "        <head>\n",
    "            <title>No pasa nada</title>\n",
    "        </head>\n",
    "        <body>\n",
    "        </body>\n",
    "    </html>\n",
    "    \n",
    "Tambien se crea un bloque de codigo con triple comilla invertida:\n",
    "\n",
    "```python\n",
    "frutas = ['pera','manzana','piña']\n",
    "for fruta in frutas:\n",
    "    print(fruta)\n",
    "```\n",
    "\n",
    "otro ejemplo\n",
    "\n",
    "```html\n",
    "<html>\n",
    "        <head>\n",
    "            <title>No pasa nada</title>\n",
    "        </head>\n",
    "        <body>\n",
    "        </body>\n",
    "    </html>\n",
    "```"
   ]
  },
  {
   "cell_type": "markdown",
   "id": "4c788496",
   "metadata": {},
   "source": [
    "# Tablas\n",
    "\n",
    "|Cedula|Nombre|Ciudad|\n",
    "|------|------|------|\n",
    "|39494423|Juan|Cali|\n",
    "|1101894333|Angie|Cartago|\n",
    "|1014888234|Pedro|Bogota|"
   ]
  },
  {
   "cell_type": "markdown",
   "id": "ae7a6b42",
   "metadata": {},
   "source": [
    "# comandos"
   ]
  },
  {
   "cell_type": "code",
   "execution_count": 1,
   "id": "d8029f3c",
   "metadata": {},
   "outputs": [
    {
     "name": "stdout",
     "output_type": "stream",
     "text": [
      "total 12\r\n",
      "-rw-rw-r-- 1 ubuntu ubuntu 4141 Jun 17 04:19 01_MarkDown.ipynb\r\n",
      "-rw-rw-r-- 1 ubuntu ubuntu  147 Jun 16 01:47 README.md\r\n"
     ]
    }
   ],
   "source": [
    "!cd /tmp\n",
    "!ls -l"
   ]
  },
  {
   "cell_type": "code",
   "execution_count": 2,
   "id": "f88da5e7",
   "metadata": {},
   "outputs": [
    {
     "name": "stdout",
     "output_type": "stream",
     "text": [
      "[Errno 2] No such file or directory: 'data'\n",
      "/home/ubuntu/Notebooks\n"
     ]
    },
    {
     "name": "stderr",
     "output_type": "stream",
     "text": [
      "UsageError: Line magic function `%ld` not found.\n"
     ]
    }
   ],
   "source": [
    "%cd data\n",
    "%ld -l"
   ]
  },
  {
   "cell_type": "code",
   "execution_count": 3,
   "id": "cbd78b6f",
   "metadata": {},
   "outputs": [
    {
     "data": {
      "application/json": {
       "cell": {
        "!": "OSMagics",
        "HTML": "Other",
        "SVG": "Other",
        "bash": "Other",
        "capture": "ExecutionMagics",
        "debug": "ExecutionMagics",
        "file": "Other",
        "html": "DisplayMagics",
        "javascript": "DisplayMagics",
        "js": "DisplayMagics",
        "latex": "DisplayMagics",
        "markdown": "DisplayMagics",
        "perl": "Other",
        "prun": "ExecutionMagics",
        "pypy": "Other",
        "python": "Other",
        "python2": "Other",
        "python3": "Other",
        "ruby": "Other",
        "script": "ScriptMagics",
        "sh": "Other",
        "svg": "DisplayMagics",
        "sx": "OSMagics",
        "system": "OSMagics",
        "time": "ExecutionMagics",
        "timeit": "ExecutionMagics",
        "writefile": "OSMagics"
       },
       "line": {
        "alias": "OSMagics",
        "alias_magic": "BasicMagics",
        "autoawait": "AsyncMagics",
        "autocall": "AutoMagics",
        "automagic": "AutoMagics",
        "autosave": "KernelMagics",
        "bookmark": "OSMagics",
        "cat": "Other",
        "cd": "OSMagics",
        "clear": "KernelMagics",
        "colors": "BasicMagics",
        "conda": "PackagingMagics",
        "config": "ConfigMagics",
        "connect_info": "KernelMagics",
        "cp": "Other",
        "debug": "ExecutionMagics",
        "dhist": "OSMagics",
        "dirs": "OSMagics",
        "doctest_mode": "BasicMagics",
        "ed": "Other",
        "edit": "KernelMagics",
        "env": "OSMagics",
        "gui": "BasicMagics",
        "hist": "Other",
        "history": "HistoryMagics",
        "killbgscripts": "ScriptMagics",
        "ldir": "Other",
        "less": "KernelMagics",
        "lf": "Other",
        "lk": "Other",
        "ll": "Other",
        "load": "CodeMagics",
        "load_ext": "ExtensionMagics",
        "loadpy": "CodeMagics",
        "logoff": "LoggingMagics",
        "logon": "LoggingMagics",
        "logstart": "LoggingMagics",
        "logstate": "LoggingMagics",
        "logstop": "LoggingMagics",
        "ls": "Other",
        "lsmagic": "BasicMagics",
        "lx": "Other",
        "macro": "ExecutionMagics",
        "magic": "BasicMagics",
        "man": "KernelMagics",
        "matplotlib": "PylabMagics",
        "mkdir": "Other",
        "more": "KernelMagics",
        "mv": "Other",
        "notebook": "BasicMagics",
        "page": "BasicMagics",
        "pastebin": "CodeMagics",
        "pdb": "ExecutionMagics",
        "pdef": "NamespaceMagics",
        "pdoc": "NamespaceMagics",
        "pfile": "NamespaceMagics",
        "pinfo": "NamespaceMagics",
        "pinfo2": "NamespaceMagics",
        "pip": "PackagingMagics",
        "popd": "OSMagics",
        "pprint": "BasicMagics",
        "precision": "BasicMagics",
        "prun": "ExecutionMagics",
        "psearch": "NamespaceMagics",
        "psource": "NamespaceMagics",
        "pushd": "OSMagics",
        "pwd": "OSMagics",
        "pycat": "OSMagics",
        "pylab": "PylabMagics",
        "qtconsole": "KernelMagics",
        "quickref": "BasicMagics",
        "recall": "HistoryMagics",
        "rehashx": "OSMagics",
        "reload_ext": "ExtensionMagics",
        "rep": "Other",
        "rerun": "HistoryMagics",
        "reset": "NamespaceMagics",
        "reset_selective": "NamespaceMagics",
        "rm": "Other",
        "rmdir": "Other",
        "run": "ExecutionMagics",
        "save": "CodeMagics",
        "sc": "OSMagics",
        "set_env": "OSMagics",
        "store": "StoreMagics",
        "sx": "OSMagics",
        "system": "OSMagics",
        "tb": "ExecutionMagics",
        "time": "ExecutionMagics",
        "timeit": "ExecutionMagics",
        "unalias": "OSMagics",
        "unload_ext": "ExtensionMagics",
        "who": "NamespaceMagics",
        "who_ls": "NamespaceMagics",
        "whos": "NamespaceMagics",
        "xdel": "NamespaceMagics",
        "xmode": "BasicMagics"
       }
      },
      "text/plain": [
       "Available line magics:\n",
       "%alias  %alias_magic  %autoawait  %autocall  %automagic  %autosave  %bookmark  %cat  %cd  %clear  %colors  %conda  %config  %connect_info  %cp  %debug  %dhist  %dirs  %doctest_mode  %ed  %edit  %env  %gui  %hist  %history  %killbgscripts  %ldir  %less  %lf  %lk  %ll  %load  %load_ext  %loadpy  %logoff  %logon  %logstart  %logstate  %logstop  %ls  %lsmagic  %lx  %macro  %magic  %man  %matplotlib  %mkdir  %more  %mv  %notebook  %page  %pastebin  %pdb  %pdef  %pdoc  %pfile  %pinfo  %pinfo2  %pip  %popd  %pprint  %precision  %prun  %psearch  %psource  %pushd  %pwd  %pycat  %pylab  %qtconsole  %quickref  %recall  %rehashx  %reload_ext  %rep  %rerun  %reset  %reset_selective  %rm  %rmdir  %run  %save  %sc  %set_env  %store  %sx  %system  %tb  %time  %timeit  %unalias  %unload_ext  %who  %who_ls  %whos  %xdel  %xmode\n",
       "\n",
       "Available cell magics:\n",
       "%%!  %%HTML  %%SVG  %%bash  %%capture  %%debug  %%file  %%html  %%javascript  %%js  %%latex  %%markdown  %%perl  %%prun  %%pypy  %%python  %%python2  %%python3  %%ruby  %%script  %%sh  %%svg  %%sx  %%system  %%time  %%timeit  %%writefile\n",
       "\n",
       "Automagic is ON, % prefix IS NOT needed for line magics."
      ]
     },
     "execution_count": 3,
     "metadata": {},
     "output_type": "execute_result"
    }
   ],
   "source": [
    "%lsmagic"
   ]
  },
  {
   "cell_type": "code",
   "execution_count": 6,
   "id": "8456a92c",
   "metadata": {},
   "outputs": [
    {
     "name": "stdout",
     "output_type": "stream",
     "text": [
      "/tmp\n"
     ]
    }
   ],
   "source": [
    "cd /tmp"
   ]
  },
  {
   "cell_type": "code",
   "execution_count": null,
   "id": "e1df4240",
   "metadata": {},
   "outputs": [],
   "source": [
    "%cd"
   ]
  },
  {
   "cell_type": "code",
   "execution_count": 9,
   "id": "b780b35e",
   "metadata": {},
   "outputs": [
    {
     "name": "stdout",
     "output_type": "stream",
     "text": [
      "/home/ubuntu/Notebooks\n"
     ]
    }
   ],
   "source": [
    "%cd Notebooks"
   ]
  },
  {
   "cell_type": "code",
   "execution_count": 10,
   "id": "a71ef569",
   "metadata": {},
   "outputs": [
    {
     "name": "stdout",
     "output_type": "stream",
     "text": [
      "Hola desde python\n"
     ]
    }
   ],
   "source": [
    "%run hola.py"
   ]
  },
  {
   "cell_type": "code",
   "execution_count": null,
   "id": "dc142010",
   "metadata": {},
   "outputs": [],
   "source": []
  }
 ],
 "metadata": {
  "kernelspec": {
   "display_name": "Python 3",
   "language": "python",
   "name": "python3"
  },
  "language_info": {
   "codemirror_mode": {
    "name": "ipython",
    "version": 3
   },
   "file_extension": ".py",
   "mimetype": "text/x-python",
   "name": "python",
   "nbconvert_exporter": "python",
   "pygments_lexer": "ipython3",
   "version": "3.8.8"
  }
 },
 "nbformat": 4,
 "nbformat_minor": 5
}
